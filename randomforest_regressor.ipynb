{
 "cells": [
  {
   "cell_type": "code",
   "execution_count": 1,
   "id": "4fb0abf4",
   "metadata": {},
   "outputs": [
    {
     "name": "stdout",
     "output_type": "stream",
     "text": [
      "RandomForest Results\n",
      "MSE: 0.29368904749934516\n",
      "RMSE: 0.5419308512156742\n",
      "R² Score: 0.7758798570705804\n",
      "\n",
      "[ Feature importance ]\n",
      "MedInc : 0.5928523306544012\n",
      "HouseAge : 0.047449026182304774\n",
      "AveRooms : 0.02988616447090051\n",
      "AveBedrms : 0.01678397754140077\n",
      "Population : 0.017201773504411835\n",
      "AveOccup : 0.13961700991670345\n",
      "Latitude : 0.07810556117163744\n",
      "Longitude : 0.07810415655824006\n"
     ]
    }
   ],
   "source": [
    "import warnings\n",
    "import pandas as pd\n",
    "from sklearn.datasets import fetch_california_housing\n",
    "from sklearn.ensemble import RandomForestRegressor\n",
    "from sklearn.model_selection import train_test_split\n",
    "from sklearn.metrics import mean_squared_error, r2_score\n",
    "import numpy as np\n",
    "\n",
    "warnings.filterwarnings('ignore')\n",
    "\n",
    "# 데이터셋\n",
    "cali = fetch_california_housing()\n",
    "df = pd.DataFrame(cali.data, columns=cali.feature_names)\n",
    "df['MedHouseVal'] = cali.target\n",
    "\n",
    "X = df.drop('MedHouseVal', axis=1)\n",
    "y = df['MedHouseVal']\n",
    "\n",
    "# train/test 분리\n",
    "X_train, X_test, y_train, y_test = train_test_split(\n",
    "    X, y, test_size=0.2, random_state=42\n",
    ")\n",
    "\n",
    "# RandomForest Regressor\n",
    "reg = RandomForestRegressor(\n",
    "    n_estimators=200,    # 트리 개수\n",
    "    max_depth=10,        # 트리 깊이 제한\n",
    "    random_state=100,\n",
    "    n_jobs=-1\n",
    ")\n",
    "\n",
    "reg.fit(X_train, y_train)\n",
    "y_pred = reg.predict(X_test)\n",
    "\n",
    "# 평가\n",
    "mse = mean_squared_error(y_test, y_pred)\n",
    "rmse = np.sqrt(mse)\n",
    "r2 = r2_score(y_test, y_pred)\n",
    "\n",
    "print(\"RandomForest Results\")\n",
    "print(\"MSE:\", mse)\n",
    "print(\"RMSE:\", rmse)\n",
    "print(\"R² Score:\", r2)\n",
    "print()\n",
    "\n",
    "# Feature Importance\n",
    "print(\"[ Feature importance ]\")\n",
    "for i, feature in enumerate(cali.feature_names):\n",
    "    print(f\"{feature} : {reg.feature_importances_[i]}\")\n"
   ]
  },
  {
   "cell_type": "code",
   "execution_count": null,
   "id": "12f055c8",
   "metadata": {},
   "outputs": [],
   "source": []
  }
 ],
 "metadata": {
  "kernelspec": {
   "display_name": "machine_learning",
   "language": "python",
   "name": "python3"
  },
  "language_info": {
   "codemirror_mode": {
    "name": "ipython",
    "version": 3
   },
   "file_extension": ".py",
   "mimetype": "text/x-python",
   "name": "python",
   "nbconvert_exporter": "python",
   "pygments_lexer": "ipython3",
   "version": "3.10.18"
  }
 },
 "nbformat": 4,
 "nbformat_minor": 5
}
