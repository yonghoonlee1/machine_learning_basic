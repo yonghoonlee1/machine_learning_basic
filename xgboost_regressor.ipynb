{
 "cells": [
  {
   "cell_type": "code",
   "execution_count": 4,
   "id": "d8a19aa0",
   "metadata": {},
   "outputs": [
    {
     "name": "stdout",
     "output_type": "stream",
     "text": [
      "MSE: 0.20804038744895811\n",
      "RMSE: 0.4561144455604954\n",
      "R² Score: 0.841240108314709\n",
      "\n",
      "[ Feature importance ]\n",
      "MedInc : 0.49667760729789734\n",
      "HouseAge : 0.06738278269767761\n",
      "AveRooms : 0.03991413861513138\n",
      "AveBedrms : 0.025820143520832062\n",
      "Population : 0.022940294817090034\n",
      "AveOccup : 0.14398936927318573\n",
      "Latitude : 0.09579730778932571\n",
      "Longitude : 0.10747838765382767\n"
     ]
    }
   ],
   "source": [
    "import warnings\n",
    "import pandas as pd\n",
    "from sklearn.datasets import fetch_california_housing\n",
    "from xgboost import XGBRegressor\n",
    "from sklearn.model_selection import train_test_split\n",
    "from sklearn.metrics import mean_squared_error, r2_score\n",
    "import numpy as np\n",
    "\n",
    "warnings.filterwarnings('ignore')\n",
    "\n",
    "# 데이터셋 (캘리포니아 집값 데이터)\n",
    "cali = fetch_california_housing()\n",
    "df = pd.DataFrame(cali.data, columns=cali.feature_names)\n",
    "df['MedHouseVal'] = cali.target\n",
    "\n",
    "X = df.drop('MedHouseVal', axis=1)\n",
    "y = df['MedHouseVal']\n",
    "\n",
    "# 학습/테스트 분리\n",
    "X_train, X_test, y_train, y_test = train_test_split(\n",
    "    X, y, test_size=0.2, random_state=42\n",
    ")\n",
    "\n",
    "# XGBoost Regressor 모델 정의\n",
    "reg = XGBRegressor(\n",
    "    n_estimators=500,         # 트리 개수\n",
    "    learning_rate=0.05,       # 학습률\n",
    "    max_depth=6,              # 트리 최대 깊이\n",
    "    reg_lambda=1,             # L2 규제\n",
    "    objective=\"reg:squarederror\",  # 회귀 목적 함수\n",
    "    random_state=100,\n",
    "    eval_metric=\"rmse\"\n",
    ")\n",
    "\n",
    "# 모델 학습\n",
    "reg.fit(X_train, y_train)\n",
    "\n",
    "# 예측\n",
    "y_pred = reg.predict(X_test)\n",
    "\n",
    "# 평가\n",
    "mse = mean_squared_error(y_test, y_pred)\n",
    "rmse = np.sqrt(mse)\n",
    "r2 = r2_score(y_test, y_pred)\n",
    "\n",
    "print(\"MSE:\", mse)\n",
    "print(\"RMSE:\", rmse)\n",
    "print(\"R² Score:\", r2)\n",
    "print()\n",
    "\n",
    "# Feature Importance\n",
    "print(\"[ Feature importance ]\")\n",
    "for i, feature in enumerate(cali.feature_names):\n",
    "    print(f\"{feature} : {reg.feature_importances_[i]}\")"
   ]
  },
  {
   "cell_type": "code",
   "execution_count": null,
   "id": "f566db52",
   "metadata": {},
   "outputs": [],
   "source": []
  }
 ],
 "metadata": {
  "kernelspec": {
   "display_name": "machine_learning",
   "language": "python",
   "name": "python3"
  },
  "language_info": {
   "codemirror_mode": {
    "name": "ipython",
    "version": 3
   },
   "file_extension": ".py",
   "mimetype": "text/x-python",
   "name": "python",
   "nbconvert_exporter": "python",
   "pygments_lexer": "ipython3",
   "version": "3.10.18"
  }
 },
 "nbformat": 4,
 "nbformat_minor": 5
}
