{
 "cells": [
  {
   "cell_type": "code",
   "execution_count": 2,
   "id": "10ea6f3e",
   "metadata": {},
   "outputs": [
    {
     "name": "stdout",
     "output_type": "stream",
     "text": [
      "훈련 정확도: 1.0\n",
      "테스트 정확도: 0.9333333333333333\n",
      "sepal length (cm) : 0.021314729005098343\n",
      "sepal width (cm) : 0.022769467905163765\n",
      "petal length (cm) : 0.5194560289382935\n",
      "petal width (cm) : 0.4364597797393799\n"
     ]
    }
   ],
   "source": [
    "import warnings\n",
    "import pandas as pd\n",
    "from sklearn.datasets import load_iris\n",
    "from xgboost import XGBClassifier\n",
    "from sklearn.model_selection import train_test_split\n",
    " \n",
    "warnings.filterwarnings('ignore')\n",
    "\n",
    "iris = load_iris()\n",
    "df = pd.DataFrame(iris.data, columns=iris.feature_names)\n",
    "df['species'] = iris.target\n",
    " \n",
    "X = df.drop('species', axis=1)\n",
    "y = df['species']\n",
    " \n",
    "X_train, X_test, y_train, y_test = train_test_split(\n",
    "    X, y, test_size=0.2, random_state=42, stratify=y\n",
    ")\n",
    "\n",
    "clf = XGBClassifier(\n",
    "    n_estimators=200,      \n",
    "    learning_rate=0.1,     \n",
    "    max_depth=5,\n",
    "    gamma=0,\n",
    "    importance_type='gain',\n",
    "    reg_lambda=1,\n",
    "    random_state=100,\n",
    "    use_label_encoder=False,\n",
    "    eval_metric=\"mlogloss\" \n",
    ")\n",
    "\n",
    "clf.fit(X_train, y_train)\n",
    "\n",
    "print(\"훈련 정확도:\", clf.score(X_train, y_train))\n",
    "print(\"테스트 정확도:\", clf.score(X_test, y_test))\n",
    "\n",
    "for i, feature in enumerate(iris.feature_names):\n",
    "    print(f'{feature} : {clf.feature_importances_[i]}')"
   ]
  },
  {
   "cell_type": "code",
   "execution_count": null,
   "id": "701ce694",
   "metadata": {},
   "outputs": [],
   "source": []
  }
 ],
 "metadata": {
  "kernelspec": {
   "display_name": "machine_learning",
   "language": "python",
   "name": "python3"
  },
  "language_info": {
   "codemirror_mode": {
    "name": "ipython",
    "version": 3
   },
   "file_extension": ".py",
   "mimetype": "text/x-python",
   "name": "python",
   "nbconvert_exporter": "python",
   "pygments_lexer": "ipython3",
   "version": "3.10.18"
  }
 },
 "nbformat": 4,
 "nbformat_minor": 5
}
