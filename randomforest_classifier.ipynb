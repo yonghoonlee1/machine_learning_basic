{
 "cells": [
  {
   "cell_type": "code",
   "execution_count": null,
   "id": "87739ae9",
   "metadata": {},
   "outputs": [
    {
     "name": "stdout",
     "output_type": "stream",
     "text": [
      "훈련 정확도: 1.0\n",
      "테스트 정확도: 0.9333333333333333\n",
      "sepal length (cm) : 0.10674616623087353\n",
      "sepal width (cm) : 0.019550333821121445\n",
      "petal length (cm) : 0.45363343743561\n",
      "petal width (cm) : 0.420070062512395\n"
     ]
    }
   ],
   "source": [
    "import warnings\n",
    "import pandas as pd\n",
    "from sklearn.datasets import load_iris\n",
    "from sklearn.ensemble import RandomForestClassifier\n",
    "from sklearn.model_selection import train_test_split\n",
    "\n",
    "warnings.filterwarnings('ignore')\n",
    "\n",
    "# 데이터 준비\n",
    "iris = load_iris()\n",
    "df = pd.DataFrame(iris.data, columns=iris.feature_names)\n",
    "df['species'] = iris.target\n",
    "\n",
    "X = df.drop('species', axis=1)\n",
    "y = df['species']\n",
    "\n",
    "# 학습/테스트 데이터 분리\n",
    "X_train, X_test, y_train, y_test = train_test_split(\n",
    "    X, y, test_size=0.2, random_state=42, stratify=y\n",
    ")\n",
    "\n",
    "# RandomForest 모델 정의\n",
    "clf = RandomForestClassifier(\n",
    "    n_estimators=200,    # 트리 개수\n",
    "    max_depth=5,        # 최대 깊이\n",
    "    random_state=100,\n",
    "    n_jobs=-1           # CPU 병렬 처리\n",
    ")\n",
    "\n",
    "# 학습\n",
    "clf.fit(X_train, y_train)\n",
    "\n",
    "# 성능 평가\n",
    "print(\"훈련 정확도:\", clf.score(X_train, y_train))\n",
    "print(\"테스트 정확도:\", clf.score(X_test, y_test))\n",
    "\n",
    "# Feature Importance 출력\n",
    "for i, feature in enumerate(iris.feature_names):\n",
    "    print(f'{feature} : {clf.feature_importances_[i]}')"
   ]
  },
  {
   "cell_type": "code",
   "execution_count": null,
   "id": "f003d0c6",
   "metadata": {},
   "outputs": [],
   "source": []
  }
 ],
 "metadata": {
  "kernelspec": {
   "display_name": "machine_learning",
   "language": "python",
   "name": "python3"
  },
  "language_info": {
   "codemirror_mode": {
    "name": "ipython",
    "version": 3
   },
   "file_extension": ".py",
   "mimetype": "text/x-python",
   "name": "python",
   "nbconvert_exporter": "python",
   "pygments_lexer": "ipython3",
   "version": "3.10.18"
  }
 },
 "nbformat": 4,
 "nbformat_minor": 5
}
